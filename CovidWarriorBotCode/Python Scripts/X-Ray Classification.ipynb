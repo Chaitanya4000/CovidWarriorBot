{
 "cells": [
  {
   "cell_type": "code",
   "execution_count": 2,
   "metadata": {},
   "outputs": [],
   "source": [
    "import tensorflow as tf\n",
    "from tensorflow import keras\n",
    "from keras.preprocessing.image import ImageDataGenerator\n",
    "import numpy as np\n",
    "from keras.preprocessing import image\n",
    "import pickle\n",
    "import os\n",
    "from flask import Flask, request, jsonify"
   ]
  },
  {
   "cell_type": "code",
   "execution_count": 3,
   "metadata": {},
   "outputs": [
    {
     "name": "stdout",
     "output_type": "stream",
     "text": [
      "Found 40 images belonging to 2 classes.\n"
     ]
    }
   ],
   "source": [
    "train_datagen = ImageDataGenerator(rescale = 1./255,\n",
    "                                   shear_range = 0.2,\n",
    "                                   zoom_range = 0.2,\n",
    "                                   horizontal_flip = True)\n",
    "training_set = train_datagen.flow_from_directory('Dataset\\\\Training_Set',\n",
    "                                                 target_size = (64, 64),\n",
    "                                                 batch_size = 32,\n",
    "                                                 class_mode = 'binary')"
   ]
  },
  {
   "cell_type": "code",
   "execution_count": 4,
   "metadata": {},
   "outputs": [
    {
     "name": "stdout",
     "output_type": "stream",
     "text": [
      "Found 40 images belonging to 2 classes.\n"
     ]
    }
   ],
   "source": [
    "test_datagen = ImageDataGenerator(rescale = 1./255)\n",
    "test_set = test_datagen.flow_from_directory('Dataset\\\\Testing_set',\n",
    "                                            target_size = (64, 64),\n",
    "                                            batch_size = 32,\n",
    "                                            class_mode = 'binary')"
   ]
  },
  {
   "cell_type": "code",
   "execution_count": 5,
   "metadata": {},
   "outputs": [],
   "source": [
    "cnn = tf.keras.models.Sequential()"
   ]
  },
  {
   "cell_type": "code",
   "execution_count": 6,
   "metadata": {},
   "outputs": [],
   "source": [
    "cnn.add(tf.keras.layers.Conv2D(filters=32, kernel_size=3, activation='relu', input_shape=[64, 64, 3]))"
   ]
  },
  {
   "cell_type": "code",
   "execution_count": 7,
   "metadata": {},
   "outputs": [],
   "source": [
    "cnn.add(tf.keras.layers.MaxPool2D(pool_size=2, strides=2))"
   ]
  },
  {
   "cell_type": "code",
   "execution_count": 104,
   "metadata": {},
   "outputs": [],
   "source": [
    "cnn.add(tf.keras.layers.Conv2D(filters=32, kernel_size=3, activation='relu'))\n",
    "cnn.add(tf.keras.layers.MaxPool2D(pool_size=2, strides=2))"
   ]
  },
  {
   "cell_type": "code",
   "execution_count": 105,
   "metadata": {},
   "outputs": [],
   "source": [
    "cnn.add(tf.keras.layers.Flatten())"
   ]
  },
  {
   "cell_type": "code",
   "execution_count": 106,
   "metadata": {},
   "outputs": [],
   "source": [
    "cnn.add(tf.keras.layers.Dense(units=128, activation='relu'))"
   ]
  },
  {
   "cell_type": "code",
   "execution_count": 107,
   "metadata": {},
   "outputs": [],
   "source": [
    "cnn.add(tf.keras.layers.Dense(units=1, activation='sigmoid'))"
   ]
  },
  {
   "cell_type": "code",
   "execution_count": 108,
   "metadata": {},
   "outputs": [],
   "source": [
    "cnn.compile(optimizer = 'adam', loss = 'binary_crossentropy', metrics = ['accuracy'])"
   ]
  },
  {
   "cell_type": "code",
   "execution_count": 109,
   "metadata": {},
   "outputs": [
    {
     "name": "stdout",
     "output_type": "stream",
     "text": [
      "Epoch 1/25\n",
      "2/2 [==============================] - 6s 3s/step - loss: 0.9803 - accuracy: 0.4250 - val_loss: 0.7968 - val_accuracy: 0.5000\n",
      "Epoch 2/25\n",
      "2/2 [==============================] - 3s 2s/step - loss: 0.6845 - accuracy: 0.5417 - val_loss: 0.6881 - val_accuracy: 0.6000\n",
      "Epoch 3/25\n",
      "2/2 [==============================] - 3s 3s/step - loss: 0.6923 - accuracy: 0.6000 - val_loss: 0.6959 - val_accuracy: 0.5000\n",
      "Epoch 4/25\n",
      "2/2 [==============================] - 3s 1s/step - loss: 0.6959 - accuracy: 0.5104 - val_loss: 0.6897 - val_accuracy: 0.5000\n",
      "Epoch 5/25\n",
      "2/2 [==============================] - 3s 3s/step - loss: 0.6963 - accuracy: 0.4583 - val_loss: 0.6842 - val_accuracy: 0.8000\n",
      "Epoch 6/25\n",
      "2/2 [==============================] - 3s 1s/step - loss: 0.6912 - accuracy: 0.6021 - val_loss: 0.6797 - val_accuracy: 0.9000\n",
      "Epoch 7/25\n",
      "2/2 [==============================] - 3s 2s/step - loss: 0.6836 - accuracy: 0.7396 - val_loss: 0.6753 - val_accuracy: 0.8000\n",
      "Epoch 8/25\n",
      "2/2 [==============================] - 4s 2s/step - loss: 0.6786 - accuracy: 0.7833 - val_loss: 0.6661 - val_accuracy: 0.8000\n",
      "Epoch 9/25\n",
      "2/2 [==============================] - 4s 3s/step - loss: 0.6723 - accuracy: 0.7583 - val_loss: 0.6554 - val_accuracy: 0.8000\n",
      "Epoch 10/25\n",
      "2/2 [==============================] - 3s 3s/step - loss: 0.6717 - accuracy: 0.6500 - val_loss: 0.6443 - val_accuracy: 0.5500\n",
      "Epoch 11/25\n",
      "2/2 [==============================] - 3s 1s/step - loss: 0.6560 - accuracy: 0.5708 - val_loss: 0.6320 - val_accuracy: 0.5000\n",
      "Epoch 12/25\n",
      "2/2 [==============================] - 3s 2s/step - loss: 0.6404 - accuracy: 0.5417 - val_loss: 0.6203 - val_accuracy: 0.5000\n",
      "Epoch 13/25\n",
      "2/2 [==============================] - 3s 1s/step - loss: 0.6466 - accuracy: 0.5167 - val_loss: 0.5873 - val_accuracy: 0.9500\n",
      "Epoch 14/25\n",
      "2/2 [==============================] - 3s 1s/step - loss: 0.6155 - accuracy: 0.8750 - val_loss: 0.5740 - val_accuracy: 0.8000\n",
      "Epoch 15/25\n",
      "2/2 [==============================] - 3s 964ms/step - loss: 0.6119 - accuracy: 0.6792 - val_loss: 0.5289 - val_accuracy: 0.9000\n",
      "Epoch 16/25\n",
      "2/2 [==============================] - 3s 1s/step - loss: 0.5958 - accuracy: 0.7229 - val_loss: 0.5428 - val_accuracy: 0.6000\n",
      "Epoch 17/25\n",
      "2/2 [==============================] - 3s 1s/step - loss: 0.6308 - accuracy: 0.5667 - val_loss: 0.5225 - val_accuracy: 0.6000\n",
      "Epoch 18/25\n",
      "2/2 [==============================] - 3s 1s/step - loss: 0.5875 - accuracy: 0.5771 - val_loss: 0.4915 - val_accuracy: 0.7000\n",
      "Epoch 19/25\n",
      "2/2 [==============================] - 3s 3s/step - loss: 0.5806 - accuracy: 0.7917 - val_loss: 0.4260 - val_accuracy: 0.9000\n",
      "Epoch 20/25\n",
      "2/2 [==============================] - 3s 1s/step - loss: 0.5399 - accuracy: 0.7229 - val_loss: 0.3999 - val_accuracy: 0.9000\n",
      "Epoch 21/25\n",
      "2/2 [==============================] - 3s 3s/step - loss: 0.4896 - accuracy: 0.7500 - val_loss: 0.3888 - val_accuracy: 0.8500\n",
      "Epoch 22/25\n",
      "2/2 [==============================] - 3s 1s/step - loss: 0.4171 - accuracy: 0.8854 - val_loss: 0.3538 - val_accuracy: 0.9000\n",
      "Epoch 23/25\n",
      "2/2 [==============================] - 3s 2s/step - loss: 0.3833 - accuracy: 0.9000 - val_loss: 0.3177 - val_accuracy: 0.9500\n",
      "Epoch 24/25\n",
      "2/2 [==============================] - 3s 3s/step - loss: 0.4089 - accuracy: 0.8583 - val_loss: 0.3065 - val_accuracy: 0.9000\n",
      "Epoch 25/25\n",
      "2/2 [==============================] - 3s 1s/step - loss: 0.4315 - accuracy: 0.7938 - val_loss: 0.5191 - val_accuracy: 0.6500\n"
     ]
    },
    {
     "data": {
      "text/plain": [
       "<tensorflow.python.keras.callbacks.History at 0x247002bcd60>"
      ]
     },
     "execution_count": 109,
     "metadata": {},
     "output_type": "execute_result"
    }
   ],
   "source": [
    "cnn.fit(x = training_set, validation_data = test_set, epochs = 25)"
   ]
  },
  {
   "cell_type": "code",
   "execution_count": 110,
   "metadata": {},
   "outputs": [],
   "source": [
    "test_image = image.load_img(\"Dataset\\\\training_set\\\\Covid\\\\005.jpeg\", target_size = (64, 64))\n",
    "test_image = image.img_to_array(test_image)\n",
    "test_image = np.expand_dims(test_image, axis = 0)\n",
    "result = cnn.predict(test_image)\n",
    "training_set.class_indices\n",
    "if result[0][0] == 1:\n",
    "  prediction = 'Covid'\n",
    "else:\n",
    "  prediction = 'Normal'"
   ]
  },
  {
   "cell_type": "code",
   "execution_count": 111,
   "metadata": {},
   "outputs": [
    {
     "name": "stdout",
     "output_type": "stream",
     "text": [
      "Normal\n"
     ]
    }
   ],
   "source": [
    "print(prediction)"
   ]
  },
  {
   "cell_type": "code",
   "execution_count": 112,
   "metadata": {},
   "outputs": [],
   "source": [
    "cnn.save('Model\\\\CNNModel.h5')"
   ]
  },
  {
   "cell_type": "code",
   "execution_count": 3,
   "metadata": {},
   "outputs": [
    {
     "name": "stdout",
     "output_type": "stream",
     "text": [
      " * Serving Flask app \"__main__\" (lazy loading)\n",
      " * Environment: production\n",
      "   WARNING: This is a development server. Do not use it in a production deployment.\n",
      "   Use a production WSGI server instead.\n",
      " * Debug mode: off\n"
     ]
    },
    {
     "name": "stderr",
     "output_type": "stream",
     "text": [
      " * Running on http://127.0.0.1:5000/ (Press CTRL+C to quit)\n"
     ]
    },
    {
     "name": "stdout",
     "output_type": "stream",
     "text": [
      "This was success\n",
      "C:\\Users\\A115618799\\Desktop\\Chaitanya\\PythonProjects\\LungsX-RayClassification\\Dataset\\training_set\\Covid\\019.jpeg\n",
      "Text image formed\n",
      "Test image converted to array\n",
      "Test image is expanded\n"
     ]
    },
    {
     "name": "stderr",
     "output_type": "stream",
     "text": [
      "127.0.0.1 - - [24/Mar/2021 23:12:35] \"\u001b[37mPOST /PredictCovid HTTP/1.1\u001b[0m\" 200 -\n"
     ]
    },
    {
     "name": "stdout",
     "output_type": "stream",
     "text": [
      "0.0\n",
      "This was success\n",
      "C:\\Users\\A115618799\\Desktop\\Chaitanya\\PythonProjects\\LungsX-RayClassification\\Dataset\\training_set\\Covid\\019.jpeg\n",
      "Text image formed\n",
      "Test image converted to array\n",
      "Test image is expanded\n"
     ]
    },
    {
     "name": "stderr",
     "output_type": "stream",
     "text": [
      "127.0.0.1 - - [24/Mar/2021 23:12:53] \"\u001b[37mPOST /PredictCovid HTTP/1.1\u001b[0m\" 200 -\n"
     ]
    },
    {
     "name": "stdout",
     "output_type": "stream",
     "text": [
      "0.0\n",
      "This was success\n",
      "C:\\Users\\A115618799\\Desktop\\Chaitanya\\PythonProjects\\LungsX-RayClassification\\Dataset\\training_set\\Covid\\019.jpeg\n"
     ]
    },
    {
     "name": "stderr",
     "output_type": "stream",
     "text": [
      "127.0.0.1 - - [24/Mar/2021 23:18:06] \"\u001b[37mPOST /PredictCovid HTTP/1.1\u001b[0m\" 200 -\n"
     ]
    },
    {
     "name": "stdout",
     "output_type": "stream",
     "text": [
      "Text image formed\n",
      "Test image converted to array\n",
      "Test image is expanded\n",
      "0.0\n",
      "This was success\n",
      "C:\\Users\\A115618799\\Desktop\\Chaitanya\\PythonProjects\\LungsX-RayClassification\\Dataset\\training_set\\Covid\\019.jpeg\n",
      "Text image formed\n",
      "Test image converted to array\n",
      "Test image is expanded\n",
      "0.0"
     ]
    },
    {
     "name": "stderr",
     "output_type": "stream",
     "text": [
      "127.0.0.1 - - [24/Mar/2021 23:19:00] \"\u001b[37mPOST /PredictCovid HTTP/1.1\u001b[0m\" 200 -\n"
     ]
    },
    {
     "name": "stdout",
     "output_type": "stream",
     "text": [
      "\n",
      "This was success\n",
      "C:\\Users\\A115618799\\Desktop\\Chaitanya\\PythonProjects\\LungsX-RayClassification\\Dataset\\training_set\\Covid\\004.jpeg\n",
      "Text image formed\n",
      "Test image converted to array\n",
      "Test image is expanded\n",
      "WARNING:tensorflow:5 out of the last 5 calls to <function Model.make_predict_function.<locals>.predict_function at 0x0000022CD6FD0EE0> triggered tf.function retracing. Tracing is expensive and the excessive number of tracings could be due to (1) creating @tf.function repeatedly in a loop, (2) passing tensors with different shapes, (3) passing Python objects instead of tensors. For (1), please define your @tf.function outside of the loop. For (2), @tf.function has experimental_relax_shapes=True option that relaxes argument shapes that can avoid unnecessary retracing. For (3), please refer to https://www.tensorflow.org/guide/function#controlling_retracing and https://www.tensorflow.org/api_docs/python/tf/function for  more details.\n"
     ]
    },
    {
     "name": "stderr",
     "output_type": "stream",
     "text": [
      "127.0.0.1 - - [24/Mar/2021 23:29:52] \"\u001b[37mPOST /PredictCovid HTTP/1.1\u001b[0m\" 200 -\n"
     ]
    },
    {
     "name": "stdout",
     "output_type": "stream",
     "text": [
      "1.0\n",
      "This was success\n",
      "C:\\Users\\A115618799\\Desktop\\Chaitanya\\PythonProjects\\LungsX-RayClassification\\Dataset\\training_set\\Normal\\00000011_002.png\n",
      "Text image formed\n",
      "Test image converted to array\n",
      "Test image is expanded\n",
      "WARNING:tensorflow:6 out of the last 6 calls to <function Model.make_predict_function.<locals>.predict_function at 0x0000022CD913DCA0> triggered tf.function retracing. Tracing is expensive and the excessive number of tracings could be due to (1) creating @tf.function repeatedly in a loop, (2) passing tensors with different shapes, (3) passing Python objects instead of tensors. For (1), please define your @tf.function outside of the loop. For (2), @tf.function has experimental_relax_shapes=True option that relaxes argument shapes that can avoid unnecessary retracing. For (3), please refer to https://www.tensorflow.org/guide/function#controlling_retracing and https://www.tensorflow.org/api_docs/python/tf/function for  more details.\n"
     ]
    },
    {
     "name": "stderr",
     "output_type": "stream",
     "text": [
      "127.0.0.1 - - [24/Mar/2021 23:35:41] \"\u001b[37mGET /PredictCovid HTTP/1.1\u001b[0m\" 200 -\n"
     ]
    },
    {
     "name": "stdout",
     "output_type": "stream",
     "text": [
      "1.0\n"
     ]
    },
    {
     "name": "stderr",
     "output_type": "stream",
     "text": [
      "[2021-03-24 23:41:09,714] ERROR in app: Exception on /PredictCovid [POST]\n",
      "Traceback (most recent call last):\n",
      "  File \"C:\\Users\\A115618799\\Anaconda3\\lib\\site-packages\\flask\\app.py\", line 2447, in wsgi_app\n",
      "    response = self.full_dispatch_request()\n",
      "  File \"C:\\Users\\A115618799\\Anaconda3\\lib\\site-packages\\flask\\app.py\", line 1952, in full_dispatch_request\n",
      "    rv = self.handle_user_exception(e)\n",
      "  File \"C:\\Users\\A115618799\\Anaconda3\\lib\\site-packages\\flask\\app.py\", line 1821, in handle_user_exception\n",
      "    reraise(exc_type, exc_value, tb)\n",
      "  File \"C:\\Users\\A115618799\\Anaconda3\\lib\\site-packages\\flask\\_compat.py\", line 39, in reraise\n",
      "    raise value\n",
      "  File \"C:\\Users\\A115618799\\Anaconda3\\lib\\site-packages\\flask\\app.py\", line 1950, in full_dispatch_request\n",
      "    rv = self.dispatch_request()\n",
      "  File \"C:\\Users\\A115618799\\Anaconda3\\lib\\site-packages\\flask\\app.py\", line 1936, in dispatch_request\n",
      "    return self.view_functions[rule.endpoint](**req.view_args)\n",
      "  File \"<ipython-input-3-3fd09ae3580a>\", line 17, in PredictCovid\n",
      "    test_image = image.load_img(exp_input,target_size = (64, 64))\n",
      "  File \"C:\\Users\\A115618799\\Anaconda3\\lib\\site-packages\\tensorflow\\python\\keras\\preprocessing\\image.py\", line 299, in load_img\n",
      "    return image.load_img(path, grayscale=grayscale, color_mode=color_mode,\n",
      "  File \"C:\\Users\\A115618799\\Anaconda3\\lib\\site-packages\\keras_preprocessing\\image\\utils.py\", line 113, in load_img\n",
      "    with open(path, 'rb') as f:\n",
      "FileNotFoundError: [Errno 2] No such file or directory: '&[str_AttachmentPath]&'\n"
     ]
    },
    {
     "name": "stdout",
     "output_type": "stream",
     "text": [
      "This was success\n",
      "&[str_AttachmentPath]&\n"
     ]
    },
    {
     "name": "stderr",
     "output_type": "stream",
     "text": [
      "127.0.0.1 - - [24/Mar/2021 23:41:09] \"\u001b[35m\u001b[1mPOST /PredictCovid HTTP/1.1\u001b[0m\" 500 -\n"
     ]
    },
    {
     "name": "stdout",
     "output_type": "stream",
     "text": [
      "This was success\n",
      "C:\\Users\\A115618799\\Desktop\\XrayImages\\01.png\n",
      "Text image formed\n",
      "Test image converted to array\n",
      "Test image is expanded\n",
      "WARNING:tensorflow:7 out of the last 7 calls to <function Model.make_predict_function.<locals>.predict_function at 0x0000022CD929DC10> triggered tf.function retracing. Tracing is expensive and the excessive number of tracings could be due to (1) creating @tf.function repeatedly in a loop, (2) passing tensors with different shapes, (3) passing Python objects instead of tensors. For (1), please define your @tf.function outside of the loop. For (2), @tf.function has experimental_relax_shapes=True option that relaxes argument shapes that can avoid unnecessary retracing. For (3), please refer to https://www.tensorflow.org/guide/function#controlling_retracing and https://www.tensorflow.org/api_docs/python/tf/function for  more details.\n"
     ]
    },
    {
     "name": "stderr",
     "output_type": "stream",
     "text": [
      "127.0.0.1 - - [24/Mar/2021 23:46:32] \"\u001b[37mPOST /PredictCovid HTTP/1.1\u001b[0m\" 200 -\n"
     ]
    },
    {
     "name": "stdout",
     "output_type": "stream",
     "text": [
      "1.0\n",
      "This was success\n",
      "C:\\Users\\A115618799\\Desktop\\XrayImages\\01.png\n",
      "Text image formed\n",
      "Test image converted to array\n",
      "Test image is expanded\n",
      "WARNING:tensorflow:8 out of the last 8 calls to <function Model.make_predict_function.<locals>.predict_function at 0x0000022CDBC72040> triggered tf.function retracing. Tracing is expensive and the excessive number of tracings could be due to (1) creating @tf.function repeatedly in a loop, (2) passing tensors with different shapes, (3) passing Python objects instead of tensors. For (1), please define your @tf.function outside of the loop. For (2), @tf.function has experimental_relax_shapes=True option that relaxes argument shapes that can avoid unnecessary retracing. For (3), please refer to https://www.tensorflow.org/guide/function#controlling_retracing and https://www.tensorflow.org/api_docs/python/tf/function for  more details.\n"
     ]
    },
    {
     "name": "stderr",
     "output_type": "stream",
     "text": [
      "127.0.0.1 - - [24/Mar/2021 23:47:48] \"\u001b[37mPOST /PredictCovid HTTP/1.1\u001b[0m\" 200 -\n"
     ]
    },
    {
     "name": "stdout",
     "output_type": "stream",
     "text": [
      "1.0\n",
      "This was success\n",
      "C:\\Users\\A115618799\\Desktop\\XrayImages\\01.png\n",
      "Text image formed\n",
      "Test image converted to array\n",
      "Test image is expanded\n",
      "WARNING:tensorflow:9 out of the last 9 calls to <function Model.make_predict_function.<locals>.predict_function at 0x0000022CDBCFA820> triggered tf.function retracing. Tracing is expensive and the excessive number of tracings could be due to (1) creating @tf.function repeatedly in a loop, (2) passing tensors with different shapes, (3) passing Python objects instead of tensors. For (1), please define your @tf.function outside of the loop. For (2), @tf.function has experimental_relax_shapes=True option that relaxes argument shapes that can avoid unnecessary retracing. For (3), please refer to https://www.tensorflow.org/guide/function#controlling_retracing and https://www.tensorflow.org/api_docs/python/tf/function for  more details.\n"
     ]
    },
    {
     "name": "stderr",
     "output_type": "stream",
     "text": [
      "127.0.0.1 - - [24/Mar/2021 23:52:48] \"\u001b[37mPOST /PredictCovid HTTP/1.1\u001b[0m\" 200 -\n"
     ]
    },
    {
     "name": "stdout",
     "output_type": "stream",
     "text": [
      "1.0\n"
     ]
    },
    {
     "name": "stderr",
     "output_type": "stream",
     "text": [
      "[2021-03-24 23:54:47,110] ERROR in app: Exception on /PredictCovid [POST]\n",
      "Traceback (most recent call last):\n",
      "  File \"C:\\Users\\A115618799\\Anaconda3\\lib\\site-packages\\flask\\app.py\", line 2447, in wsgi_app\n",
      "    response = self.full_dispatch_request()\n",
      "  File \"C:\\Users\\A115618799\\Anaconda3\\lib\\site-packages\\flask\\app.py\", line 1952, in full_dispatch_request\n",
      "    rv = self.handle_user_exception(e)\n",
      "  File \"C:\\Users\\A115618799\\Anaconda3\\lib\\site-packages\\flask\\app.py\", line 1821, in handle_user_exception\n",
      "    reraise(exc_type, exc_value, tb)\n",
      "  File \"C:\\Users\\A115618799\\Anaconda3\\lib\\site-packages\\flask\\_compat.py\", line 39, in reraise\n",
      "    raise value\n",
      "  File \"C:\\Users\\A115618799\\Anaconda3\\lib\\site-packages\\flask\\app.py\", line 1950, in full_dispatch_request\n",
      "    rv = self.dispatch_request()\n",
      "  File \"C:\\Users\\A115618799\\Anaconda3\\lib\\site-packages\\flask\\app.py\", line 1936, in dispatch_request\n",
      "    return self.view_functions[rule.endpoint](**req.view_args)\n",
      "  File \"<ipython-input-3-3fd09ae3580a>\", line 17, in PredictCovid\n",
      "    test_image = image.load_img(exp_input,target_size = (64, 64))\n",
      "  File \"C:\\Users\\A115618799\\Anaconda3\\lib\\site-packages\\tensorflow\\python\\keras\\preprocessing\\image.py\", line 299, in load_img\n",
      "    return image.load_img(path, grayscale=grayscale, color_mode=color_mode,\n",
      "  File \"C:\\Users\\A115618799\\Anaconda3\\lib\\site-packages\\keras_preprocessing\\image\\utils.py\", line 113, in load_img\n",
      "    with open(path, 'rb') as f:\n",
      "FileNotFoundError: [Errno 2] No such file or directory: 'C:\\\\Users\\\\A115618799\\\\Desktop\\\\XrayImages\\\\02.png'\n",
      "127.0.0.1 - - [24/Mar/2021 23:54:47] \"\u001b[35m\u001b[1mPOST /PredictCovid HTTP/1.1\u001b[0m\" 500 -\n"
     ]
    },
    {
     "name": "stdout",
     "output_type": "stream",
     "text": [
      "This was success\n",
      "C:\\Users\\A115618799\\Desktop\\XrayImages\\02.png\n"
     ]
    },
    {
     "name": "stderr",
     "output_type": "stream",
     "text": [
      "[2021-03-24 23:55:57,873] ERROR in app: Exception on /PredictCovid [POST]\n",
      "Traceback (most recent call last):\n",
      "  File \"C:\\Users\\A115618799\\Anaconda3\\lib\\site-packages\\flask\\app.py\", line 2447, in wsgi_app\n",
      "    response = self.full_dispatch_request()\n",
      "  File \"C:\\Users\\A115618799\\Anaconda3\\lib\\site-packages\\flask\\app.py\", line 1952, in full_dispatch_request\n",
      "    rv = self.handle_user_exception(e)\n",
      "  File \"C:\\Users\\A115618799\\Anaconda3\\lib\\site-packages\\flask\\app.py\", line 1821, in handle_user_exception\n",
      "    reraise(exc_type, exc_value, tb)\n",
      "  File \"C:\\Users\\A115618799\\Anaconda3\\lib\\site-packages\\flask\\_compat.py\", line 39, in reraise\n",
      "    raise value\n",
      "  File \"C:\\Users\\A115618799\\Anaconda3\\lib\\site-packages\\flask\\app.py\", line 1950, in full_dispatch_request\n",
      "    rv = self.dispatch_request()\n",
      "  File \"C:\\Users\\A115618799\\Anaconda3\\lib\\site-packages\\flask\\app.py\", line 1936, in dispatch_request\n",
      "    return self.view_functions[rule.endpoint](**req.view_args)\n",
      "  File \"<ipython-input-3-3fd09ae3580a>\", line 17, in PredictCovid\n",
      "    test_image = image.load_img(exp_input,target_size = (64, 64))\n",
      "  File \"C:\\Users\\A115618799\\Anaconda3\\lib\\site-packages\\tensorflow\\python\\keras\\preprocessing\\image.py\", line 299, in load_img\n",
      "    return image.load_img(path, grayscale=grayscale, color_mode=color_mode,\n",
      "  File \"C:\\Users\\A115618799\\Anaconda3\\lib\\site-packages\\keras_preprocessing\\image\\utils.py\", line 113, in load_img\n",
      "    with open(path, 'rb') as f:\n",
      "FileNotFoundError: [Errno 2] No such file or directory: 'C:\\\\Users\\\\A115618799\\\\Desktop\\\\XrayImages\\\\02.png'\n",
      "127.0.0.1 - - [24/Mar/2021 23:55:57] \"\u001b[35m\u001b[1mPOST /PredictCovid HTTP/1.1\u001b[0m\" 500 -\n"
     ]
    },
    {
     "name": "stdout",
     "output_type": "stream",
     "text": [
      "This was success\n",
      "C:\\Users\\A115618799\\Desktop\\XrayImages\\02.png\n",
      "This was success\n",
      "C:\\Users\\A115618799\\Desktop\\XrayImages\\02.jpeg\n",
      "Text image formed\n",
      "Test image converted to array\n",
      "Test image is expanded\n",
      "WARNING:tensorflow:10 out of the last 10 calls to <function Model.make_predict_function.<locals>.predict_function at 0x0000022CDBE1A3A0> triggered tf.function retracing. Tracing is expensive and the excessive number of tracings could be due to (1) creating @tf.function repeatedly in a loop, (2) passing tensors with different shapes, (3) passing Python objects instead of tensors. For (1), please define your @tf.function outside of the loop. For (2), @tf.function has experimental_relax_shapes=True option that relaxes argument shapes that can avoid unnecessary retracing. For (3), please refer to https://www.tensorflow.org/guide/function#controlling_retracing and https://www.tensorflow.org/api_docs/python/tf/function for  more details.\n"
     ]
    },
    {
     "name": "stderr",
     "output_type": "stream",
     "text": [
      "127.0.0.1 - - [24/Mar/2021 23:56:37] \"\u001b[37mPOST /PredictCovid HTTP/1.1\u001b[0m\" 200 -\n"
     ]
    },
    {
     "name": "stdout",
     "output_type": "stream",
     "text": [
      "1.0\n",
      "This was success\n",
      "C:\\Users\\A115618799\\Desktop\\XrayImages\\01.png\n",
      "Text image formed\n",
      "Test image converted to array\n",
      "Test image is expanded\n",
      "WARNING:tensorflow:11 out of the last 11 calls to <function Model.make_predict_function.<locals>.predict_function at 0x0000022CDBE1A040> triggered tf.function retracing. Tracing is expensive and the excessive number of tracings could be due to (1) creating @tf.function repeatedly in a loop, (2) passing tensors with different shapes, (3) passing Python objects instead of tensors. For (1), please define your @tf.function outside of the loop. For (2), @tf.function has experimental_relax_shapes=True option that relaxes argument shapes that can avoid unnecessary retracing. For (3), please refer to https://www.tensorflow.org/guide/function#controlling_retracing and https://www.tensorflow.org/api_docs/python/tf/function for  more details.\n"
     ]
    },
    {
     "name": "stderr",
     "output_type": "stream",
     "text": [
      "127.0.0.1 - - [24/Mar/2021 23:57:19] \"\u001b[37mGET /PredictCovid HTTP/1.1\u001b[0m\" 200 -\n"
     ]
    },
    {
     "name": "stdout",
     "output_type": "stream",
     "text": [
      "1.0\n",
      "This was success\n",
      "C:\\Users\\A115618799\\Desktop\\Chaitanya\\PythonProjects\\LungsX-RayClassification\\Dataset\\training_set\\Normal\\00000005_004.png\n",
      "Text image formed\n",
      "Test image converted to array\n",
      "Test image is expanded\n",
      "WARNING:tensorflow:11 out of the last 11 calls to <function Model.make_predict_function.<locals>.predict_function at 0x0000022CDDE361F0> triggered tf.function retracing. Tracing is expensive and the excessive number of tracings could be due to (1) creating @tf.function repeatedly in a loop, (2) passing tensors with different shapes, (3) passing Python objects instead of tensors. For (1), please define your @tf.function outside of the loop. For (2), @tf.function has experimental_relax_shapes=True option that relaxes argument shapes that can avoid unnecessary retracing. For (3), please refer to https://www.tensorflow.org/guide/function#controlling_retracing and https://www.tensorflow.org/api_docs/python/tf/function for  more details.\n"
     ]
    },
    {
     "name": "stderr",
     "output_type": "stream",
     "text": [
      "127.0.0.1 - - [24/Mar/2021 23:58:41] \"\u001b[37mGET /PredictCovid HTTP/1.1\u001b[0m\" 200 -\n"
     ]
    },
    {
     "name": "stdout",
     "output_type": "stream",
     "text": [
      "1.0\n",
      "This was success\n",
      "C:\\Users\\A115618799\\Desktop\\Chaitanya\\PythonProjects\\LungsX-RayClassification\\Dataset\\training_set\\Normal\\00000013_019.png\n",
      "Text image formed\n",
      "Test image converted to array\n",
      "Test image is expanded\n",
      "WARNING:tensorflow:11 out of the last 11 calls to <function Model.make_predict_function.<locals>.predict_function at 0x0000022CDDEB0040> triggered tf.function retracing. Tracing is expensive and the excessive number of tracings could be due to (1) creating @tf.function repeatedly in a loop, (2) passing tensors with different shapes, (3) passing Python objects instead of tensors. For (1), please define your @tf.function outside of the loop. For (2), @tf.function has experimental_relax_shapes=True option that relaxes argument shapes that can avoid unnecessary retracing. For (3), please refer to https://www.tensorflow.org/guide/function#controlling_retracing and https://www.tensorflow.org/api_docs/python/tf/function for  more details.\n"
     ]
    },
    {
     "name": "stderr",
     "output_type": "stream",
     "text": [
      "127.0.0.1 - - [24/Mar/2021 23:59:00] \"\u001b[37mGET /PredictCovid HTTP/1.1\u001b[0m\" 200 -\n"
     ]
    },
    {
     "name": "stdout",
     "output_type": "stream",
     "text": [
      "1.0\n"
     ]
    },
    {
     "name": "stderr",
     "output_type": "stream",
     "text": [
      "[2021-03-24 23:59:11,503] ERROR in app: Exception on /PredictCovid [GET]\n",
      "Traceback (most recent call last):\n",
      "  File \"C:\\Users\\A115618799\\Anaconda3\\lib\\site-packages\\flask\\app.py\", line 2447, in wsgi_app\n",
      "    response = self.full_dispatch_request()\n",
      "  File \"C:\\Users\\A115618799\\Anaconda3\\lib\\site-packages\\flask\\app.py\", line 1952, in full_dispatch_request\n",
      "    rv = self.handle_user_exception(e)\n",
      "  File \"C:\\Users\\A115618799\\Anaconda3\\lib\\site-packages\\flask\\app.py\", line 1821, in handle_user_exception\n",
      "    reraise(exc_type, exc_value, tb)\n",
      "  File \"C:\\Users\\A115618799\\Anaconda3\\lib\\site-packages\\flask\\_compat.py\", line 39, in reraise\n",
      "    raise value\n",
      "  File \"C:\\Users\\A115618799\\Anaconda3\\lib\\site-packages\\flask\\app.py\", line 1950, in full_dispatch_request\n",
      "    rv = self.dispatch_request()\n",
      "  File \"C:\\Users\\A115618799\\Anaconda3\\lib\\site-packages\\flask\\app.py\", line 1936, in dispatch_request\n",
      "    return self.view_functions[rule.endpoint](**req.view_args)\n",
      "  File \"<ipython-input-3-3fd09ae3580a>\", line 17, in PredictCovid\n",
      "    test_image = image.load_img(exp_input,target_size = (64, 64))\n",
      "  File \"C:\\Users\\A115618799\\Anaconda3\\lib\\site-packages\\tensorflow\\python\\keras\\preprocessing\\image.py\", line 299, in load_img\n",
      "    return image.load_img(path, grayscale=grayscale, color_mode=color_mode,\n",
      "  File \"C:\\Users\\A115618799\\Anaconda3\\lib\\site-packages\\keras_preprocessing\\image\\utils.py\", line 113, in load_img\n",
      "    with open(path, 'rb') as f:\n",
      "FileNotFoundError: [Errno 2] No such file or directory: 'C:\\\\Users\\\\A115618799\\\\Desktop\\\\Chaitanya\\\\PythonProjects\\\\LungsX-RayClassification\\\\Dataset\\\\training_set\\\\Normal\\\\00000014_019.png'\n",
      "127.0.0.1 - - [24/Mar/2021 23:59:11] \"\u001b[35m\u001b[1mGET /PredictCovid HTTP/1.1\u001b[0m\" 500 -\n"
     ]
    },
    {
     "name": "stdout",
     "output_type": "stream",
     "text": [
      "This was success\n",
      "C:\\Users\\A115618799\\Desktop\\Chaitanya\\PythonProjects\\LungsX-RayClassification\\Dataset\\training_set\\Normal\\00000014_019.png\n",
      "This was success\n",
      "C:\\Users\\A115618799\\Desktop\\Chaitanya\\PythonProjects\\LungsX-RayClassification\\Dataset\\training_set\\Normal\\00000014_000.png\n",
      "Text image formed\n",
      "Test image converted to array\n",
      "Test image is expanded\n",
      "WARNING:tensorflow:11 out of the last 11 calls to <function Model.make_predict_function.<locals>.predict_function at 0x0000022CDDE36CA0> triggered tf.function retracing. Tracing is expensive and the excessive number of tracings could be due to (1) creating @tf.function repeatedly in a loop, (2) passing tensors with different shapes, (3) passing Python objects instead of tensors. For (1), please define your @tf.function outside of the loop. For (2), @tf.function has experimental_relax_shapes=True option that relaxes argument shapes that can avoid unnecessary retracing. For (3), please refer to https://www.tensorflow.org/guide/function#controlling_retracing and https://www.tensorflow.org/api_docs/python/tf/function for  more details.\n"
     ]
    },
    {
     "name": "stderr",
     "output_type": "stream",
     "text": [
      "127.0.0.1 - - [24/Mar/2021 23:59:23] \"\u001b[37mGET /PredictCovid HTTP/1.1\u001b[0m\" 200 -\n"
     ]
    },
    {
     "name": "stdout",
     "output_type": "stream",
     "text": [
      "1.0\n"
     ]
    },
    {
     "name": "stderr",
     "output_type": "stream",
     "text": [
      "[2021-03-24 23:59:40,170] ERROR in app: Exception on /PredictCovid [GET]\n",
      "Traceback (most recent call last):\n",
      "  File \"C:\\Users\\A115618799\\Anaconda3\\lib\\site-packages\\flask\\app.py\", line 2447, in wsgi_app\n",
      "    response = self.full_dispatch_request()\n",
      "  File \"C:\\Users\\A115618799\\Anaconda3\\lib\\site-packages\\flask\\app.py\", line 1952, in full_dispatch_request\n",
      "    rv = self.handle_user_exception(e)\n",
      "  File \"C:\\Users\\A115618799\\Anaconda3\\lib\\site-packages\\flask\\app.py\", line 1821, in handle_user_exception\n",
      "    reraise(exc_type, exc_value, tb)\n",
      "  File \"C:\\Users\\A115618799\\Anaconda3\\lib\\site-packages\\flask\\_compat.py\", line 39, in reraise\n",
      "    raise value\n",
      "  File \"C:\\Users\\A115618799\\Anaconda3\\lib\\site-packages\\flask\\app.py\", line 1950, in full_dispatch_request\n",
      "    rv = self.dispatch_request()\n",
      "  File \"C:\\Users\\A115618799\\Anaconda3\\lib\\site-packages\\flask\\app.py\", line 1936, in dispatch_request\n",
      "    return self.view_functions[rule.endpoint](**req.view_args)\n",
      "  File \"<ipython-input-3-3fd09ae3580a>\", line 17, in PredictCovid\n",
      "    test_image = image.load_img(exp_input,target_size = (64, 64))\n",
      "  File \"C:\\Users\\A115618799\\Anaconda3\\lib\\site-packages\\tensorflow\\python\\keras\\preprocessing\\image.py\", line 299, in load_img\n",
      "    return image.load_img(path, grayscale=grayscale, color_mode=color_mode,\n",
      "  File \"C:\\Users\\A115618799\\Anaconda3\\lib\\site-packages\\keras_preprocessing\\image\\utils.py\", line 113, in load_img\n",
      "    with open(path, 'rb') as f:\n",
      "FileNotFoundError: [Errno 2] No such file or directory: 'C:\\\\Users\\\\A115618799\\\\Desktop\\\\Chaitanya\\\\PythonProjects\\\\LungsX-RayClassification\\\\Dataset\\\\training_set\\\\Normal\\\\00000023_023.png'\n",
      "127.0.0.1 - - [24/Mar/2021 23:59:40] \"\u001b[35m\u001b[1mGET /PredictCovid HTTP/1.1\u001b[0m\" 500 -\n"
     ]
    },
    {
     "name": "stdout",
     "output_type": "stream",
     "text": [
      "This was success\n",
      "C:\\Users\\A115618799\\Desktop\\Chaitanya\\PythonProjects\\LungsX-RayClassification\\Dataset\\training_set\\Normal\\00000023_023.png\n",
      "This was success\n",
      "C:\\Users\\A115618799\\Desktop\\Chaitanya\\PythonProjects\\LungsX-RayClassification\\Dataset\\training_set\\Normal\\00000023_003.png\n",
      "Text image formed\n",
      "Test image converted to array\n",
      "Test image is expanded\n",
      "WARNING:tensorflow:11 out of the last 11 calls to <function Model.make_predict_function.<locals>.predict_function at 0x0000022CDDFF33A0> triggered tf.function retracing. Tracing is expensive and the excessive number of tracings could be due to (1) creating @tf.function repeatedly in a loop, (2) passing tensors with different shapes, (3) passing Python objects instead of tensors. For (1), please define your @tf.function outside of the loop. For (2), @tf.function has experimental_relax_shapes=True option that relaxes argument shapes that can avoid unnecessary retracing. For (3), please refer to https://www.tensorflow.org/guide/function#controlling_retracing and https://www.tensorflow.org/api_docs/python/tf/function for  more details.\n"
     ]
    },
    {
     "name": "stderr",
     "output_type": "stream",
     "text": [
      "127.0.0.1 - - [25/Mar/2021 00:00:00] \"\u001b[37mGET /PredictCovid HTTP/1.1\u001b[0m\" 200 -\n"
     ]
    },
    {
     "name": "stdout",
     "output_type": "stream",
     "text": [
      "1.0\n",
      "This was success\n",
      "C:\\Users\\A115618799\\Desktop\\Chaitanya\\PythonProjects\\LungsX-RayClassification\\Dataset\\training_set\\Normal\\00000011_003.png\n",
      "Text image formed\n",
      "Test image converted to array\n",
      "Test image is expanded\n",
      "WARNING:tensorflow:11 out of the last 11 calls to <function Model.make_predict_function.<locals>.predict_function at 0x0000022CDE0BD160> triggered tf.function retracing. Tracing is expensive and the excessive number of tracings could be due to (1) creating @tf.function repeatedly in a loop, (2) passing tensors with different shapes, (3) passing Python objects instead of tensors. For (1), please define your @tf.function outside of the loop. For (2), @tf.function has experimental_relax_shapes=True option that relaxes argument shapes that can avoid unnecessary retracing. For (3), please refer to https://www.tensorflow.org/guide/function#controlling_retracing and https://www.tensorflow.org/api_docs/python/tf/function for  more details.\n"
     ]
    },
    {
     "name": "stderr",
     "output_type": "stream",
     "text": [
      "127.0.0.1 - - [25/Mar/2021 00:00:17] \"\u001b[37mGET /PredictCovid HTTP/1.1\u001b[0m\" 200 -\n"
     ]
    },
    {
     "name": "stdout",
     "output_type": "stream",
     "text": [
      "1.0\n",
      "This was success\n",
      "C:\\Users\\A115618799\\Desktop\\Chaitanya\\PythonProjects\\LungsX-RayClassification\\Dataset\\training_set\\Covid\\003.jpeg\n",
      "Text image formed\n",
      "Test image converted to array\n",
      "Test image is expanded\n",
      "WARNING:tensorflow:11 out of the last 11 calls to <function Model.make_predict_function.<locals>.predict_function at 0x0000022CDF43B040> triggered tf.function retracing. Tracing is expensive and the excessive number of tracings could be due to (1) creating @tf.function repeatedly in a loop, (2) passing tensors with different shapes, (3) passing Python objects instead of tensors. For (1), please define your @tf.function outside of the loop. For (2), @tf.function has experimental_relax_shapes=True option that relaxes argument shapes that can avoid unnecessary retracing. For (3), please refer to https://www.tensorflow.org/guide/function#controlling_retracing and https://www.tensorflow.org/api_docs/python/tf/function for  more details.\n"
     ]
    },
    {
     "name": "stderr",
     "output_type": "stream",
     "text": [
      "127.0.0.1 - - [25/Mar/2021 00:00:40] \"\u001b[37mGET /PredictCovid HTTP/1.1\u001b[0m\" 200 -\n"
     ]
    },
    {
     "name": "stdout",
     "output_type": "stream",
     "text": [
      "1.0\n",
      "This was success\n",
      "C:\\Users\\A115618799\\Desktop\\Chaitanya\\PythonProjects\\LungsX-RayClassification\\Dataset\\training_set\\Covid\\016.jpeg\n",
      "Text image formed\n",
      "Test image converted to array\n",
      "Test image is expanded\n",
      "WARNING:tensorflow:11 out of the last 11 calls to <function Model.make_predict_function.<locals>.predict_function at 0x0000022CDF4CA040> triggered tf.function retracing. Tracing is expensive and the excessive number of tracings could be due to (1) creating @tf.function repeatedly in a loop, (2) passing tensors with different shapes, (3) passing Python objects instead of tensors. For (1), please define your @tf.function outside of the loop. For (2), @tf.function has experimental_relax_shapes=True option that relaxes argument shapes that can avoid unnecessary retracing. For (3), please refer to https://www.tensorflow.org/guide/function#controlling_retracing and https://www.tensorflow.org/api_docs/python/tf/function for  more details.\n"
     ]
    },
    {
     "name": "stderr",
     "output_type": "stream",
     "text": [
      "127.0.0.1 - - [25/Mar/2021 00:00:56] \"\u001b[37mGET /PredictCovid HTTP/1.1\u001b[0m\" 200 -\n"
     ]
    },
    {
     "name": "stdout",
     "output_type": "stream",
     "text": [
      "1.0\n",
      "This was success\n",
      "C:\\Users\\A115618799\\Desktop\\Chaitanya\\PythonProjects\\LungsX-RayClassification\\Dataset\\training_set\\Covid\\019.jpeg\n",
      "Text image formed\n",
      "Test image converted to array\n",
      "Test image is expanded\n",
      "WARNING:tensorflow:11 out of the last 11 calls to <function Model.make_predict_function.<locals>.predict_function at 0x0000022CDDEB01F0> triggered tf.function retracing. Tracing is expensive and the excessive number of tracings could be due to (1) creating @tf.function repeatedly in a loop, (2) passing tensors with different shapes, (3) passing Python objects instead of tensors. For (1), please define your @tf.function outside of the loop. For (2), @tf.function has experimental_relax_shapes=True option that relaxes argument shapes that can avoid unnecessary retracing. For (3), please refer to https://www.tensorflow.org/guide/function#controlling_retracing and https://www.tensorflow.org/api_docs/python/tf/function for  more details.\n"
     ]
    },
    {
     "name": "stderr",
     "output_type": "stream",
     "text": [
      "127.0.0.1 - - [25/Mar/2021 00:01:11] \"\u001b[37mGET /PredictCovid HTTP/1.1\u001b[0m\" 200 -\n"
     ]
    },
    {
     "name": "stdout",
     "output_type": "stream",
     "text": [
      "0.0\n",
      "This was success\n",
      "C:\\Users\\A115618799\\Desktop\\XrayImages\\02.jpeg\n",
      "Text image formed\n",
      "Test image converted to array\n",
      "Test image is expanded\n",
      "WARNING:tensorflow:11 out of the last 11 calls to <function Model.make_predict_function.<locals>.predict_function at 0x0000022CDBE1A430> triggered tf.function retracing. Tracing is expensive and the excessive number of tracings could be due to (1) creating @tf.function repeatedly in a loop, (2) passing tensors with different shapes, (3) passing Python objects instead of tensors. For (1), please define your @tf.function outside of the loop. For (2), @tf.function has experimental_relax_shapes=True option that relaxes argument shapes that can avoid unnecessary retracing. For (3), please refer to https://www.tensorflow.org/guide/function#controlling_retracing and https://www.tensorflow.org/api_docs/python/tf/function for  more details.\n"
     ]
    },
    {
     "name": "stderr",
     "output_type": "stream",
     "text": [
      "127.0.0.1 - - [25/Mar/2021 00:03:11] \"\u001b[37mPOST /PredictCovid HTTP/1.1\u001b[0m\" 200 -\n"
     ]
    },
    {
     "name": "stdout",
     "output_type": "stream",
     "text": [
      "0.0\n",
      "This was success\n",
      "C:\\Users\\A115618799\\Desktop\\XrayImages\\01.png\n",
      "Text image formed\n",
      "Test image converted to array\n",
      "Test image is expanded\n",
      "WARNING:tensorflow:11 out of the last 11 calls to <function Model.make_predict_function.<locals>.predict_function at 0x0000022CD91CF4C0> triggered tf.function retracing. Tracing is expensive and the excessive number of tracings could be due to (1) creating @tf.function repeatedly in a loop, (2) passing tensors with different shapes, (3) passing Python objects instead of tensors. For (1), please define your @tf.function outside of the loop. For (2), @tf.function has experimental_relax_shapes=True option that relaxes argument shapes that can avoid unnecessary retracing. For (3), please refer to https://www.tensorflow.org/guide/function#controlling_retracing and https://www.tensorflow.org/api_docs/python/tf/function for  more details.\n"
     ]
    },
    {
     "name": "stderr",
     "output_type": "stream",
     "text": [
      "127.0.0.1 - - [25/Mar/2021 00:03:54] \"\u001b[37mPOST /PredictCovid HTTP/1.1\u001b[0m\" 200 -\n"
     ]
    },
    {
     "name": "stdout",
     "output_type": "stream",
     "text": [
      "1.0\n",
      "This was success\n",
      "C:\\Users\\A115618799\\Desktop\\XrayImages\\02.jpeg\n",
      "Text image formed\n",
      "Test image converted to array\n",
      "Test image is expanded\n",
      "WARNING:tensorflow:11 out of the last 11 calls to <function Model.make_predict_function.<locals>.predict_function at 0x0000022CD02C0820> triggered tf.function retracing. Tracing is expensive and the excessive number of tracings could be due to (1) creating @tf.function repeatedly in a loop, (2) passing tensors with different shapes, (3) passing Python objects instead of tensors. For (1), please define your @tf.function outside of the loop. For (2), @tf.function has experimental_relax_shapes=True option that relaxes argument shapes that can avoid unnecessary retracing. For (3), please refer to https://www.tensorflow.org/guide/function#controlling_retracing and https://www.tensorflow.org/api_docs/python/tf/function for  more details.\n"
     ]
    },
    {
     "name": "stderr",
     "output_type": "stream",
     "text": [
      "127.0.0.1 - - [25/Mar/2021 00:04:12] \"\u001b[37mPOST /PredictCovid HTTP/1.1\u001b[0m\" 200 -\n"
     ]
    },
    {
     "name": "stdout",
     "output_type": "stream",
     "text": [
      "1.0\n",
      "This was success\n",
      "C:\\Users\\A115618799\\Desktop\\Chaitanya\\PythonProjects\\LungsX-RayClassification\\Dataset\\training_set\\Covid\\019.jpeg\n",
      "Text image formed\n",
      "Test image converted to array\n",
      "Test image is expanded\n",
      "WARNING:tensorflow:11 out of the last 11 calls to <function Model.make_predict_function.<locals>.predict_function at 0x0000022CDE0BDF70> triggered tf.function retracing. Tracing is expensive and the excessive number of tracings could be due to (1) creating @tf.function repeatedly in a loop, (2) passing tensors with different shapes, (3) passing Python objects instead of tensors. For (1), please define your @tf.function outside of the loop. For (2), @tf.function has experimental_relax_shapes=True option that relaxes argument shapes that can avoid unnecessary retracing. For (3), please refer to https://www.tensorflow.org/guide/function#controlling_retracing and https://www.tensorflow.org/api_docs/python/tf/function for  more details.\n"
     ]
    },
    {
     "name": "stderr",
     "output_type": "stream",
     "text": [
      "127.0.0.1 - - [25/Mar/2021 00:05:08] \"\u001b[37mGET /PredictCovid HTTP/1.1\u001b[0m\" 200 -\n"
     ]
    },
    {
     "name": "stdout",
     "output_type": "stream",
     "text": [
      "0.0\n",
      "This was success\n",
      "C:\\Users\\A115618799\\Desktop\\XrayImages\\02.jpeg\n",
      "Text image formed\n",
      "Test image converted to array\n",
      "Test image is expanded\n",
      "WARNING:tensorflow:11 out of the last 11 calls to <function Model.make_predict_function.<locals>.predict_function at 0x0000022CDBC72820> triggered tf.function retracing. Tracing is expensive and the excessive number of tracings could be due to (1) creating @tf.function repeatedly in a loop, (2) passing tensors with different shapes, (3) passing Python objects instead of tensors. For (1), please define your @tf.function outside of the loop. For (2), @tf.function has experimental_relax_shapes=True option that relaxes argument shapes that can avoid unnecessary retracing. For (3), please refer to https://www.tensorflow.org/guide/function#controlling_retracing and https://www.tensorflow.org/api_docs/python/tf/function for  more details.\n"
     ]
    },
    {
     "name": "stderr",
     "output_type": "stream",
     "text": [
      "127.0.0.1 - - [25/Mar/2021 00:05:39] \"\u001b[37mPOST /PredictCovid HTTP/1.1\u001b[0m\" 200 -\n"
     ]
    },
    {
     "name": "stdout",
     "output_type": "stream",
     "text": [
      "1.0\n",
      "This was success\n",
      "C:\\Users\\A115618799\\Desktop\\XrayImages\\02.jpeg\n",
      "Text image formed\n",
      "Test image converted to array\n",
      "Test image is expanded\n",
      "WARNING:tensorflow:11 out of the last 11 calls to <function Model.make_predict_function.<locals>.predict_function at 0x0000022CDBC72C10> triggered tf.function retracing. Tracing is expensive and the excessive number of tracings could be due to (1) creating @tf.function repeatedly in a loop, (2) passing tensors with different shapes, (3) passing Python objects instead of tensors. For (1), please define your @tf.function outside of the loop. For (2), @tf.function has experimental_relax_shapes=True option that relaxes argument shapes that can avoid unnecessary retracing. For (3), please refer to https://www.tensorflow.org/guide/function#controlling_retracing and https://www.tensorflow.org/api_docs/python/tf/function for  more details.\n"
     ]
    },
    {
     "name": "stderr",
     "output_type": "stream",
     "text": [
      "127.0.0.1 - - [25/Mar/2021 00:05:56] \"\u001b[37mPOST /PredictCovid HTTP/1.1\u001b[0m\" 200 -\n"
     ]
    },
    {
     "name": "stdout",
     "output_type": "stream",
     "text": [
      "1.0\n",
      "This was success\n",
      "C:\\Users\\A115618799\\Desktop\\XrayImages\\02.jpeg\n",
      "Text image formed\n",
      "Test image converted to array\n",
      "Test image is expanded\n",
      "WARNING:tensorflow:11 out of the last 11 calls to <function Model.make_predict_function.<locals>.predict_function at 0x0000022CD6FD0670> triggered tf.function retracing. Tracing is expensive and the excessive number of tracings could be due to (1) creating @tf.function repeatedly in a loop, (2) passing tensors with different shapes, (3) passing Python objects instead of tensors. For (1), please define your @tf.function outside of the loop. For (2), @tf.function has experimental_relax_shapes=True option that relaxes argument shapes that can avoid unnecessary retracing. For (3), please refer to https://www.tensorflow.org/guide/function#controlling_retracing and https://www.tensorflow.org/api_docs/python/tf/function for  more details.\n"
     ]
    },
    {
     "name": "stderr",
     "output_type": "stream",
     "text": [
      "127.0.0.1 - - [25/Mar/2021 00:06:28] \"\u001b[37mPOST /PredictCovid HTTP/1.1\u001b[0m\" 200 -\n"
     ]
    },
    {
     "name": "stdout",
     "output_type": "stream",
     "text": [
      "1.0\n",
      "This was success\n",
      "C:\\Users\\A115618799\\Desktop\\Chaitanya\\PythonProjects\\LungsX-RayClassification\\Dataset\\training_set\\Covid\\019.jpeg\n",
      "Text image formed\n",
      "Test image converted to array\n",
      "Test image is expanded\n",
      "WARNING:tensorflow:11 out of the last 11 calls to <function Model.make_predict_function.<locals>.predict_function at 0x0000022CDF4CA9D0> triggered tf.function retracing. Tracing is expensive and the excessive number of tracings could be due to (1) creating @tf.function repeatedly in a loop, (2) passing tensors with different shapes, (3) passing Python objects instead of tensors. For (1), please define your @tf.function outside of the loop. For (2), @tf.function has experimental_relax_shapes=True option that relaxes argument shapes that can avoid unnecessary retracing. For (3), please refer to https://www.tensorflow.org/guide/function#controlling_retracing and https://www.tensorflow.org/api_docs/python/tf/function for  more details.\n"
     ]
    },
    {
     "name": "stderr",
     "output_type": "stream",
     "text": [
      "127.0.0.1 - - [25/Mar/2021 00:07:26] \"\u001b[37mPOST /PredictCovid HTTP/1.1\u001b[0m\" 200 -\n"
     ]
    },
    {
     "name": "stdout",
     "output_type": "stream",
     "text": [
      "0.0\n",
      "This was success\n",
      "C:\\Users\\A115618799\\Desktop\\XrayImages\\01.png\n",
      "Text image formed\n",
      "Test image converted to array\n",
      "Test image is expanded\n",
      "WARNING:tensorflow:11 out of the last 11 calls to <function Model.make_predict_function.<locals>.predict_function at 0x0000022CDE08F280> triggered tf.function retracing. Tracing is expensive and the excessive number of tracings could be due to (1) creating @tf.function repeatedly in a loop, (2) passing tensors with different shapes, (3) passing Python objects instead of tensors. For (1), please define your @tf.function outside of the loop. For (2), @tf.function has experimental_relax_shapes=True option that relaxes argument shapes that can avoid unnecessary retracing. For (3), please refer to https://www.tensorflow.org/guide/function#controlling_retracing and https://www.tensorflow.org/api_docs/python/tf/function for  more details.\n"
     ]
    },
    {
     "name": "stderr",
     "output_type": "stream",
     "text": [
      "127.0.0.1 - - [25/Mar/2021 00:07:59] \"\u001b[37mPOST /PredictCovid HTTP/1.1\u001b[0m\" 200 -\n"
     ]
    },
    {
     "name": "stdout",
     "output_type": "stream",
     "text": [
      "1.0\n",
      "This was success\n",
      "C:\\Users\\A115618799\\Desktop\\Chaitanya\\PythonProjects\\LungsX-RayClassification\\Dataset\\training_set\\Covid\\019.jpeg\n",
      "Text image formed\n",
      "Test image converted to array\n",
      "Test image is expanded\n",
      "WARNING:tensorflow:11 out of the last 11 calls to <function Model.make_predict_function.<locals>.predict_function at 0x0000022CDF46F160> triggered tf.function retracing. Tracing is expensive and the excessive number of tracings could be due to (1) creating @tf.function repeatedly in a loop, (2) passing tensors with different shapes, (3) passing Python objects instead of tensors. For (1), please define your @tf.function outside of the loop. For (2), @tf.function has experimental_relax_shapes=True option that relaxes argument shapes that can avoid unnecessary retracing. For (3), please refer to https://www.tensorflow.org/guide/function#controlling_retracing and https://www.tensorflow.org/api_docs/python/tf/function for  more details.\n"
     ]
    },
    {
     "name": "stderr",
     "output_type": "stream",
     "text": [
      "127.0.0.1 - - [25/Mar/2021 00:08:19] \"\u001b[37mPOST /PredictCovid HTTP/1.1\u001b[0m\" 200 -\n"
     ]
    },
    {
     "name": "stdout",
     "output_type": "stream",
     "text": [
      "0.0\n",
      "This was success\n",
      "C:\\Users\\A115618799\\Desktop\\XrayImages\\01.png\n",
      "Text image formed\n",
      "Test image converted to array\n",
      "Test image is expanded\n",
      "WARNING:tensorflow:11 out of the last 11 calls to <function Model.make_predict_function.<locals>.predict_function at 0x0000022CDF46FC10> triggered tf.function retracing. Tracing is expensive and the excessive number of tracings could be due to (1) creating @tf.function repeatedly in a loop, (2) passing tensors with different shapes, (3) passing Python objects instead of tensors. For (1), please define your @tf.function outside of the loop. For (2), @tf.function has experimental_relax_shapes=True option that relaxes argument shapes that can avoid unnecessary retracing. For (3), please refer to https://www.tensorflow.org/guide/function#controlling_retracing and https://www.tensorflow.org/api_docs/python/tf/function for  more details.\n"
     ]
    },
    {
     "name": "stderr",
     "output_type": "stream",
     "text": [
      "127.0.0.1 - - [25/Mar/2021 10:56:07] \"\u001b[37mPOST /PredictCovid HTTP/1.1\u001b[0m\" 200 -\n"
     ]
    },
    {
     "name": "stdout",
     "output_type": "stream",
     "text": [
      "1.0\n",
      "This was success\n",
      "C:\\Users\\A115618799\\Desktop\\Chaitanya\\PythonProjects\\LungsX-RayClassification\\Dataset\\training_set\\Covid\\019.jpeg\n",
      "Text image formed\n",
      "Test image converted to array\n",
      "Test image is expanded\n",
      "WARNING:tensorflow:11 out of the last 11 calls to <function Model.make_predict_function.<locals>.predict_function at 0x0000022CD9193D30> triggered tf.function retracing. Tracing is expensive and the excessive number of tracings could be due to (1) creating @tf.function repeatedly in a loop, (2) passing tensors with different shapes, (3) passing Python objects instead of tensors. For (1), please define your @tf.function outside of the loop. For (2), @tf.function has experimental_relax_shapes=True option that relaxes argument shapes that can avoid unnecessary retracing. For (3), please refer to https://www.tensorflow.org/guide/function#controlling_retracing and https://www.tensorflow.org/api_docs/python/tf/function for  more details.\n"
     ]
    },
    {
     "name": "stderr",
     "output_type": "stream",
     "text": [
      "127.0.0.1 - - [25/Mar/2021 10:56:24] \"\u001b[37mPOST /PredictCovid HTTP/1.1\u001b[0m\" 200 -\n"
     ]
    },
    {
     "name": "stdout",
     "output_type": "stream",
     "text": [
      "0.0\n",
      "This was success\n",
      "C:\\Users\\A115618799\\Desktop\\XrayImages\\01.png\n",
      "Text image formed\n",
      "Test image converted to array\n",
      "Test image is expanded\n",
      "WARNING:tensorflow:11 out of the last 11 calls to <function Model.make_predict_function.<locals>.predict_function at 0x0000022CD700AB80> triggered tf.function retracing. Tracing is expensive and the excessive number of tracings could be due to (1) creating @tf.function repeatedly in a loop, (2) passing tensors with different shapes, (3) passing Python objects instead of tensors. For (1), please define your @tf.function outside of the loop. For (2), @tf.function has experimental_relax_shapes=True option that relaxes argument shapes that can avoid unnecessary retracing. For (3), please refer to https://www.tensorflow.org/guide/function#controlling_retracing and https://www.tensorflow.org/api_docs/python/tf/function for  more details.\n"
     ]
    },
    {
     "name": "stderr",
     "output_type": "stream",
     "text": [
      "127.0.0.1 - - [25/Mar/2021 11:41:54] \"\u001b[37mPOST /PredictCovid HTTP/1.1\u001b[0m\" 200 -\n"
     ]
    },
    {
     "name": "stdout",
     "output_type": "stream",
     "text": [
      "1.0\n",
      "This was success\n",
      "C:\\Users\\A115618799\\Desktop\\Chaitanya\\PythonProjects\\LungsX-RayClassification\\Dataset\\training_set\\Covid\\019.jpeg\n",
      "Text image formed\n",
      "Test image converted to array\n",
      "Test image is expanded\n",
      "WARNING:tensorflow:11 out of the last 11 calls to <function Model.make_predict_function.<locals>.predict_function at 0x0000022CDB5959D0> triggered tf.function retracing. Tracing is expensive and the excessive number of tracings could be due to (1) creating @tf.function repeatedly in a loop, (2) passing tensors with different shapes, (3) passing Python objects instead of tensors. For (1), please define your @tf.function outside of the loop. For (2), @tf.function has experimental_relax_shapes=True option that relaxes argument shapes that can avoid unnecessary retracing. For (3), please refer to https://www.tensorflow.org/guide/function#controlling_retracing and https://www.tensorflow.org/api_docs/python/tf/function for  more details.\n"
     ]
    },
    {
     "name": "stderr",
     "output_type": "stream",
     "text": [
      "127.0.0.1 - - [25/Mar/2021 11:42:47] \"\u001b[37mPOST /PredictCovid HTTP/1.1\u001b[0m\" 200 -\n"
     ]
    },
    {
     "name": "stdout",
     "output_type": "stream",
     "text": [
      "0.0\n"
     ]
    }
   ],
   "source": [
    "app = Flask(__name__)\n",
    "\n",
    "\n",
    "\n",
    "\n",
    "@app.route('/hello')\n",
    "def hello():\n",
    "    return 'hi'\n",
    "\n",
    "\n",
    "@app.route('/PredictCovid', methods=['GET', 'POST'])\n",
    "def PredictCovid():\n",
    "    model = keras.models.load_model('C:\\\\Users\\\\A115618799\\\\Desktop\\\\Chaitanya\\\\PythonProjects\\\\LungsX-RayClassification\\\\Model\\\\CNNModel.h5')\n",
    "    print('This was success')\n",
    "    exp_input = request.json['ImagePath']\n",
    "    print(exp_input)\n",
    "    test_image = image.load_img(exp_input,target_size = (64, 64))\n",
    "    print(\"Text image formed\")\n",
    "    test_image = image.img_to_array(test_image)\n",
    "    print(\"Test image converted to array\")\n",
    "    test_image = np.expand_dims(test_image, axis = 0)\n",
    "    print(\"Test image is expanded\")\n",
    "    result = model.predict(test_image)\n",
    "    print(result[0][0])\n",
    "    if result[0][0] == 1:\n",
    "      prediction = 'Covid'\n",
    "    else:\n",
    "      prediction = 'Normal'\n",
    "    return jsonify({'results': prediction})\n",
    "\n",
    "\n",
    "if __name__ == \"__main__\":\n",
    "    app.run()\n"
   ]
  },
  {
   "cell_type": "code",
   "execution_count": null,
   "metadata": {},
   "outputs": [],
   "source": []
  }
 ],
 "metadata": {
  "kernelspec": {
   "display_name": "Python 3",
   "language": "python",
   "name": "python3"
  },
  "language_info": {
   "codemirror_mode": {
    "name": "ipython",
    "version": 3
   },
   "file_extension": ".py",
   "mimetype": "text/x-python",
   "name": "python",
   "nbconvert_exporter": "python",
   "pygments_lexer": "ipython3",
   "version": "3.8.5"
  }
 },
 "nbformat": 4,
 "nbformat_minor": 4
}
